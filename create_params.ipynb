{
 "cells": [
  {
   "cell_type": "code",
   "execution_count": 1,
   "metadata": {},
   "outputs": [],
   "source": [
    "import json\n",
    "import os\n",
    "import re\n",
    "from pathlib import Path\n",
    "from typing import Dict, Optional\n",
    "\n",
    "from core.CaS.cas_params import CaSParams\n",
    "from core.CaS.recas_params import ReCaSParams\n",
    "\n",
    "MODEL_NAME_MAP = {\n",
    "    \"mlp\": \"MLP\",\n",
    "    \"gcn\": \"GCN\",\n",
    "    \"sage\": \"SAGE\",\n",
    "    \"revgat\": \"RevGAT\",\n",
    "    \"none\": \"None\",\n",
    "    \"mlp_node2vec\": \"MLP\",\n",
    "}\n",
    "\n",
    "\n",
    "def parse_method_str(method: str, model_name: str) -> Dict[str, Optional[str]]:\n",
    "    groups = method.split(\"+\")\n",
    "    emb = \"None\"\n",
    "    if model_name == \"none\":\n",
    "        if len(groups) == 2:\n",
    "            _, feature_type = groups\n",
    "        else:\n",
    "            _, feature_type, _ = groups\n",
    "    elif \"_\" in model_name:\n",
    "        if len(groups) == 4:\n",
    "            _, _, feature_type, emb = groups\n",
    "        else:\n",
    "            _, _, feature_type, emb, _ = groups\n",
    "    else:\n",
    "        if len(groups) == 3:\n",
    "            _, _, feature_type = groups\n",
    "        else:\n",
    "            _, _, feature_type, _ = groups\n",
    "    return {\n",
    "        \"gnn_name\": MODEL_NAME_MAP[model_name],\n",
    "        \"feature_type\": feature_type,\n",
    "        \"emb\": emb,\n",
    "    }\n",
    "\n",
    "\n",
    "def create_cas_params(result_dir: Path) -> CaSParams:\n",
    "    cas_params = CaSParams()\n",
    "    dataset_list = [f for f in os.listdir(result_dir) if os.path.isdir(f)]\n",
    "    for dataset in dataset_list:\n",
    "        dataset_dir = result_dir / dataset\n",
    "        file_list = [f for f in os.listdir(result_dir) if f.endswith(\"txt\")]\n",
    "        for fname in file_list:\n",
    "            model_name = fname[len(dataset):]\n",
    "            with open(dataset_dir / fname) as f:\n",
    "                for line in f:\n",
    "                    match = re.search(r\"Best parameters for '(.+?)': (.+)\", line.strip())\n",
    "                    if match is not None:\n",
    "                        method_str, params_str = match.groups()\n",
    "                        params = json.loads(params_str)\n",
    "                        method = parse_method_str(method_str, model_name)\n",
    "                        cas_params.add(params, dataset=dataset, **method)\n",
    "    return cas_params\n",
    "\n",
    "\n",
    "def create_recas_params(result_dir: Path) -> CaSParams:\n",
    "    recas_params = ReCaSParams()\n",
    "    dataset_list = [f for f in os.listdir(result_dir) if os.path.isdir(result_dir / f)]\n",
    "    for dataset in dataset_list:\n",
    "        dataset_dir = result_dir / dataset\n",
    "        file_list = [f for f in os.listdir(dataset_dir) if f.endswith(\".txt\")]\n",
    "        for fname in file_list:\n",
    "            model_name = fname[len(dataset) + 1: -4]\n",
    "            with open(dataset_dir / fname) as f:\n",
    "                while True:\n",
    "                    try:\n",
    "                        line = f.readline()\n",
    "                    except UnicodeDecodeError:\n",
    "                        continue\n",
    "                    if not line:\n",
    "                        break\n",
    "                    match = re.search(r\"Best parameters for '(.+?)': (.+)\", line.strip())\n",
    "                    if match is not None:\n",
    "                        method_str, params_str = match.groups()\n",
    "                        params = json.loads(params_str.replace(\"'\", '\"'))\n",
    "                        method = parse_method_str(method_str, model_name)\n",
    "                        recas_params.add(params, dataset=dataset, **method)\n",
    "    return recas_params"
   ]
  },
  {
   "cell_type": "code",
   "execution_count": null,
   "metadata": {},
   "outputs": [],
   "source": [
    "result_dir = \"results_analysis_cs\"\n",
    "target_dir = \"core/CaS/cas_params_cs.json\"\n",
    "create_recas_params(Path(result_dir)).save(target_dir)"
   ]
  },
  {
   "cell_type": "code",
   "execution_count": null,
   "metadata": {},
   "outputs": [],
   "source": [
    "result_dir = \"results_analysis_s\"\n",
    "target_dir = \"core/CaS/cas_params_s.json\"\n",
    "create_recas_params(Path(result_dir)).save(target_dir)"
   ]
  },
  {
   "cell_type": "code",
   "execution_count": null,
   "metadata": {},
   "outputs": [],
   "source": [
    "result_dir = \"results_recas_sc\"\n",
    "target_dir = \"core/CaS/recas_params_sc.json\"\n",
    "create_recas_params(Path(result_dir)).save(target_dir)"
   ]
  },
  {
   "cell_type": "code",
   "execution_count": null,
   "metadata": {},
   "outputs": [],
   "source": [
    "result_dir = \"results_recas_scs\"\n",
    "target_dir = \"core/CaS/recas_params_scs.json\"\n",
    "create_recas_params(Path(result_dir)).save(target_dir)"
   ]
  },
  {
   "cell_type": "code",
   "execution_count": null,
   "metadata": {},
   "outputs": [],
   "source": [
    "result_dir = \"results_recas_cscs\"\n",
    "target_dir = \"core/CaS/recas_params_cscs.json\"\n",
    "create_recas_params(Path(result_dir)).save(target_dir)"
   ]
  }
 ],
 "metadata": {
  "kernelspec": {
   "display_name": "cs471",
   "language": "python",
   "name": "python3"
  },
  "language_info": {
   "codemirror_mode": {
    "name": "ipython",
    "version": 3
   },
   "file_extension": ".py",
   "mimetype": "text/x-python",
   "name": "python",
   "nbconvert_exporter": "python",
   "pygments_lexer": "ipython3",
   "version": "3.8.19"
  }
 },
 "nbformat": 4,
 "nbformat_minor": 2
}
